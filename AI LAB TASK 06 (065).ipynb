{
 "cells": [
  {
   "cell_type": "markdown",
   "id": "df4de834",
   "metadata": {},
   "source": [
    "### stack without Queue"
   ]
  },
  {
   "cell_type": "code",
   "execution_count": 1,
   "id": "547ca751",
   "metadata": {},
   "outputs": [
    {
     "name": "stdout",
     "output_type": "stream",
     "text": [
      "BFS traversal (without queue):\n",
      "0 1 2 3 4 5 6 "
     ]
    }
   ],
   "source": [
    "from collections import defaultdict\n",
    "\n",
    "class Graph:\n",
    "    def __init__(self):\n",
    "        self.graph = defaultdict(list)\n",
    "\n",
    "    def add_edge(self, u, v):\n",
    "        self.graph[u].append(v)\n",
    "\n",
    "    def bfs_recursive(self, nodes, visited):\n",
    "        if not nodes:   \n",
    "            return\n",
    "        next_level = []\n",
    "        for node in nodes:\n",
    "            if node not in visited:\n",
    "                print(node, end=\" \")\n",
    "                visited.add(node)\n",
    "                for neighbor in self.graph[node]:\n",
    "                    if neighbor not in visited:\n",
    "                        next_level.append(neighbor)\n",
    "        self.bfs_recursive(next_level, visited)\n",
    "\n",
    "    def bfs(self, start):\n",
    "        visited = set()\n",
    "        self.bfs_recursive([start], visited)\n",
    "\n",
    "g = Graph()\n",
    "g.add_edge(0, 1)\n",
    "g.add_edge(0, 2)\n",
    "g.add_edge(1, 3)\n",
    "g.add_edge(1, 4)\n",
    "g.add_edge(2, 5)\n",
    "g.add_edge(2, 6)\n",
    "\n",
    "print(\"BFS traversal (without queue):\")\n",
    "g.bfs(0)\n"
   ]
  },
  {
   "cell_type": "markdown",
   "id": "3462d472",
   "metadata": {},
   "source": [
    "### stack with Queue"
   ]
  },
  {
   "cell_type": "code",
   "execution_count": 2,
   "id": "2af13a54",
   "metadata": {},
   "outputs": [
    {
     "name": "stdout",
     "output_type": "stream",
     "text": [
      "BFS with Queue:\n",
      "0 1 2 3 4 5 6 "
     ]
    }
   ],
   "source": [
    "class Graph:\n",
    "    def __init__(self):\n",
    "        self.graph = {}\n",
    "\n",
    "    def addEdge(self, u, v):\n",
    "        if u not in self.graph:\n",
    "            self.graph[u] = []\n",
    "        self.graph[u].append(v)\n",
    "\n",
    "    def BFS(self, start):\n",
    "        visited = []\n",
    "        queue = [start] \n",
    "\n",
    "        while queue:\n",
    "            node = queue.pop(0) \n",
    "            if node not in visited:\n",
    "                print(node, end=\" \")\n",
    "                visited.append(node)\n",
    "                if node in self.graph:\n",
    "                    for neigh in self.graph[node]:\n",
    "                        if neigh not in visited:\n",
    "                            queue.append(neigh)\n",
    "g = Graph()\n",
    "g.addEdge(0, 1)\n",
    "g.addEdge(0, 2)\n",
    "g.addEdge(1, 3)\n",
    "g.addEdge(1, 4)\n",
    "g.addEdge(2, 5)\n",
    "g.addEdge(2, 6)\n",
    "\n",
    "print(\"BFS with Queue:\")\n",
    "g.BFS(0)\n"
   ]
  }
 ],
 "metadata": {
  "kernelspec": {
   "display_name": "base",
   "language": "python",
   "name": "python3"
  },
  "language_info": {
   "codemirror_mode": {
    "name": "ipython",
    "version": 3
   },
   "file_extension": ".py",
   "mimetype": "text/x-python",
   "name": "python",
   "nbconvert_exporter": "python",
   "pygments_lexer": "ipython3",
   "version": "3.12.4"
  }
 },
 "nbformat": 4,
 "nbformat_minor": 5
}
