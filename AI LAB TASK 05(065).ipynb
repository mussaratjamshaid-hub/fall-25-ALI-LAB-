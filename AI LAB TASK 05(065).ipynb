{
 "cells": [
  {
   "cell_type": "markdown",
   "id": "49d7f91d",
   "metadata": {},
   "source": [
    "### MUSSARAT JAMSHED\n",
    "\n",
    "### SU92-BSDSM-F24-065"
   ]
  },
  {
   "cell_type": "markdown",
   "id": "9eff980d",
   "metadata": {},
   "source": [
    "### TASK 01:\n"
   ]
  },
  {
   "cell_type": "markdown",
   "id": "c759d557",
   "metadata": {},
   "source": [
    "### \\DFS using stack:"
   ]
  },
  {
   "cell_type": "code",
   "execution_count": 1,
   "id": "c2f10d8d",
   "metadata": {},
   "outputs": [
    {
     "name": "stdout",
     "output_type": "stream",
     "text": [
      "DFS using Stack:\n",
      "A B D E F C "
     ]
    }
   ],
   "source": [
    "def dfs_stack(graph, start):\n",
    "    visited = set()         \n",
    "    stack = [start]\n",
    "    while stack:\n",
    "        node = stack.pop()  \n",
    "        if node not in visited:\n",
    "            print(node, end=\" \")\n",
    "            visited.add(node)\n",
    "        \n",
    "            for neighbor in reversed(graph[node]):\n",
    "                if neighbor not in visited:\n",
    "                    stack.append(neighbor)\n",
    "graph = {\n",
    "    'A': ['B', 'C'],\n",
    "    'B': ['D', 'E'],\n",
    "    'C': ['F'],\n",
    "    'D': [],\n",
    "    'E': ['F'],\n",
    "    'F': []\n",
    "}\n",
    "\n",
    "# DFS traversal\n",
    "print(\"DFS using Stack:\")\n",
    "dfs_stack(graph, 'A')\n"
   ]
  },
  {
   "cell_type": "markdown",
   "id": "f5b820a3",
   "metadata": {},
   "source": [
    "### TASK 02"
   ]
  },
  {
   "cell_type": "markdown",
   "id": "ca77a25f",
   "metadata": {},
   "source": [
    "Q: Research about Inorder, Preorder, Postorder?"
   ]
  },
  {
   "cell_type": "markdown",
   "id": "2ebc4405",
   "metadata": {},
   "source": [
    "ANSWER:\n",
    "Inorder, Preorder, and Postorder are tree traversal methods based on Depth First Search (DFS). They define the order in which nodes are visited:\n",
    "\n",
    "      Preorder: Root → Left → Right\n",
    "\n",
    "      Inorder: Left → Root → Right\n",
    "\n",
    "      Postorder: Left → Right → Root\n",
    "\n",
    "These methods are used to visit all nodes in a binary tree and are part of DFS traversal.\n",
    "No implementation was required — only research."
   ]
  }
 ],
 "metadata": {
  "kernelspec": {
   "display_name": "base",
   "language": "python",
   "name": "python3"
  },
  "language_info": {
   "codemirror_mode": {
    "name": "ipython",
    "version": 3
   },
   "file_extension": ".py",
   "mimetype": "text/x-python",
   "name": "python",
   "nbconvert_exporter": "python",
   "pygments_lexer": "ipython3",
   "version": "3.12.4"
  }
 },
 "nbformat": 4,
 "nbformat_minor": 5
}
