{
 "cells": [
  {
   "cell_type": "markdown",
   "id": "94e90be3",
   "metadata": {},
   "source": [
    "### MUSSARAT JAMSHED \n",
    "### BSDS-3A\n",
    "### TASK 04"
   ]
  },
  {
   "cell_type": "code",
   "execution_count": 3,
   "id": "5a170c1a",
   "metadata": {},
   "outputs": [
    {
     "name": "stdout",
     "output_type": "stream",
     "text": [
      "Original Sentence: hi Mussarat\n",
      "ASCII Sorted Sentence: Mussarat hi\n"
     ]
    }
   ],
   "source": [
    "def sort_sentence_ascii(sentence):\n",
    "    words = sentence.split()\n",
    "    n = len(words)\n",
    "    for i in range(n):\n",
    "        for j in range(0, n - i - 1):\n",
    "            if words[j] > words[j + 1]:   \n",
    "                words[j], words[j + 1] = words[j + 1], words[j]\n",
    "\n",
    "    return \" \".join(words)\n",
    "\n",
    "\n",
    "sentence = \"hi Mussarat\"\n",
    "sorted_sentence = sort_sentence_ascii(sentence)\n",
    "print(\"Original Sentence:\", sentence)\n",
    "print(\"ASCII Sorted Sentence:\", sorted_sentence)"
   ]
  },
  {
   "cell_type": "code",
   "execution_count": 6,
   "id": "aa7d8067",
   "metadata": {},
   "outputs": [
    {
     "name": "stdout",
     "output_type": "stream",
     "text": [
      "Original Sentence: This is a Zebra \n",
      "ASCII Dictionary Sorted Sentence: This Zebra a is\n"
     ]
    }
   ],
   "source": [
    "def ascii_dictionary_sort(sentence):\n",
    "    words = sentence.split()\n",
    "    n = len(words)\n",
    "    for i in range(n):\n",
    "        min_index = i\n",
    "        for j in range(i + 1, n):\n",
    "            if words[j] < words[min_index]:\n",
    "                min_index = j\n",
    "\n",
    "        words[i], words[min_index] = words[min_index], words[i]\n",
    "\n",
    "    return \" \".join(words)\n",
    "\n",
    "sentence = \"This is a Zebra \"\n",
    "sorted_sentence = ascii_dictionary_sort(sentence)\n",
    "print(\"Original Sentence:\", sentence)\n",
    "print(\"ASCII Dictionary Sorted Sentence:\", sorted_sentence)"
   ]
  },
  {
   "cell_type": "code",
   "execution_count": 9,
   "id": "0c7fae0b",
   "metadata": {},
   "outputs": [
    {
     "name": "stdout",
     "output_type": "stream",
     "text": [
      "Original Sentence: Hi Mussarat\n",
      "ASCII Sorted Characters:  HMaairsstu\n"
     ]
    }
   ],
   "source": [
    "def ascii_char_sort(sentence):\n",
    "    chars = list(sentence)  \n",
    "    n = len(chars)\n",
    "\n",
    "    for i in range(n):\n",
    "        for j in range(0, n - i - 1):\n",
    "            if chars[j] > chars[j + 1]:\n",
    "                chars[j], chars[j + 1] = chars[j + 1], chars[j]\n",
    "\n",
    "    return \"\".join(chars)\n",
    "\n",
    "sentence = \"Hi Mussarat\"\n",
    "sorted_sentence = ascii_char_sort(sentence)\n",
    "print(\"Original Sentence:\", sentence)\n",
    "print(\"ASCII Sorted Characters:\", sorted_sentence)"
   ]
  }
 ],
 "metadata": {
  "kernelspec": {
   "display_name": "Python 3",
   "language": "python",
   "name": "python3"
  },
  "language_info": {
   "codemirror_mode": {
    "name": "ipython",
    "version": 3
   },
   "file_extension": ".py",
   "mimetype": "text/x-python",
   "name": "python",
   "nbconvert_exporter": "python",
   "pygments_lexer": "ipython3",
   "version": "3.13.0"
  }
 },
 "nbformat": 4,
 "nbformat_minor": 5
}
