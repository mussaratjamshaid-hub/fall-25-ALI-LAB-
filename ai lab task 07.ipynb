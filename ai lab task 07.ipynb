{
 "cells": [
  {
   "cell_type": "code",
   "execution_count": 2,
   "id": "eb3c471a",
   "metadata": {},
   "outputs": [
    {
     "name": "stdout",
     "output_type": "stream",
     "text": [
      "Path found: ['A', 'B', 'D']\n"
     ]
    },
    {
     "data": {
      "text/plain": [
       "['A', 'B', 'D']"
      ]
     },
     "execution_count": 2,
     "metadata": {},
     "output_type": "execute_result"
    }
   ],
   "source": [
    "\n",
    "class Graph:\n",
    "    def __init__(self, graph_data):\n",
    "        self.graph = graph_data\n",
    "\n",
    "    def get_neighbors(self, node):\n",
    "        return self.graph.get(node, [])\n",
    "\n",
    "    def heuristic(self, node):\n",
    "        h_values = {\n",
    "            'A': 1,\n",
    "            'B': 1,\n",
    "            'C': 1,\n",
    "            'D': 1\n",
    "        }\n",
    "        return h_values.get(node, 0)\n",
    "\n",
    "    def a_star(self, start_node, goal_node):\n",
    "        open_set = set([start_node])       \n",
    "        closed_set = set()                \n",
    "\n",
    "        g_cost = {start_node: 0}\n",
    "        parent = {start_node: None}\n",
    "\n",
    "        while open_set:\n",
    "            current = None\n",
    "            for node in open_set:\n",
    "                if current is None or g_cost[node] + self.heuristic(node) < g_cost[current] + self.heuristic(current):\n",
    "                    current = node\n",
    "\n",
    "            if current is None:\n",
    "                print(\"No path found!\")\n",
    "                return None\n",
    "\n",
    "            if current == goal_node:\n",
    "                path = []\n",
    "                while current is not None:\n",
    "                    path.append(current)\n",
    "                    current = parent[current]\n",
    "                path.reverse()\n",
    "                print(\"Path found:\", path)\n",
    "                return path\n",
    "\n",
    "            for (neighbor, cost) in self.get_neighbors(current):\n",
    "                temp_g = g_cost[current] + cost\n",
    "                if neighbor not in g_cost or temp_g < g_cost[neighbor]:\n",
    "                    parent[neighbor] = current\n",
    "                    g_cost[neighbor] = temp_g\n",
    "                    open_set.add(neighbor)\n",
    "            open_set.remove(current)\n",
    "            closed_set.add(current)\n",
    "\n",
    "        print(\"No path exists!\")\n",
    "        return None\n",
    "graph_data = {\n",
    "    'A': [('B', 1), ('C', 3), ('D', 7)],\n",
    "    'B': [('D', 5)],\n",
    "    'C': [('D', 12)]\n",
    "}\n",
    "\n",
    "# Create graph and call A* Algorithm\n",
    "graph = Graph(graph_data)\n",
    "graph.a_star('A', 'D')\n"
   ]
  }
 ],
 "metadata": {
  "kernelspec": {
   "display_name": "Python 3",
   "language": "python",
   "name": "python3"
  },
  "language_info": {
   "codemirror_mode": {
    "name": "ipython",
    "version": 3
   },
   "file_extension": ".py",
   "mimetype": "text/x-python",
   "name": "python",
   "nbconvert_exporter": "python",
   "pygments_lexer": "ipython3",
   "version": "3.13.0"
  }
 },
 "nbformat": 4,
 "nbformat_minor": 5
}
